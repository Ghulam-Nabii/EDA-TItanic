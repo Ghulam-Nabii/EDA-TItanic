{
 "cells": [
  {
   "cell_type": "markdown",
   "id": "3a2a4092",
   "metadata": {
    "slideshow": {
     "slide_type": "slide"
    }
   },
   "source": [
    "# Preprocessing - Predicting Survival on the Titanic"
   ]
  },
  {
   "cell_type": "code",
   "execution_count": null,
   "id": "b2ca91fd",
   "metadata": {
    "slideshow": {
     "slide_type": "subslide"
    }
   },
   "outputs": [],
   "source": [
    "import numpy as np\n",
    "import pandas as pd\n",
    "\n",
    "\n",
    "import matplotlib.pyplot as plt\n",
    "%matplotlib inline\n",
    "\n",
    "import seaborn as sns\n",
    "sns.set_theme()\n",
    "sns.set_style('whitegrid')\n",
    "sns.set_palette(['#FF5F5D', '#3F7C85', '#00CCBF', '#72F2EB', '#747E7E'])\n",
    "\n",
    "# import warnings\n",
    "# warnings.filterwarnings('ignore')"
   ]
  },
  {
   "cell_type": "code",
   "execution_count": null,
   "id": "34bddb6d",
   "metadata": {
    "slideshow": {
     "slide_type": "subslide"
    }
   },
   "outputs": [],
   "source": [
    "df_train = pd.read_csv('datasets/titanic/train.csv')\n",
    "df_test = pd.read_csv('datasets/titanic/test.csv')"
   ]
  },
  {
   "cell_type": "code",
   "execution_count": null,
   "id": "402d79d7",
   "metadata": {
    "slideshow": {
     "slide_type": "subslide"
    }
   },
   "outputs": [],
   "source": [
    "df_train.info()"
   ]
  },
  {
   "cell_type": "markdown",
   "id": "b5d88f1d",
   "metadata": {
    "slideshow": {
     "slide_type": "slide"
    }
   },
   "source": [
    "## 1. Feature Engineering"
   ]
  },
  {
   "cell_type": "markdown",
   "id": "eca28a06",
   "metadata": {
    "slideshow": {
     "slide_type": "subslide"
    }
   },
   "source": [
    "### 1.1 Whats in a name?"
   ]
  },
  {
   "cell_type": "code",
   "execution_count": null,
   "id": "d0602017",
   "metadata": {
    "slideshow": {
     "slide_type": "subslide"
    }
   },
   "outputs": [],
   "source": [
    "df_train['Name'].head(10)"
   ]
  },
  {
   "cell_type": "code",
   "execution_count": null,
   "id": "5a8c8dd0",
   "metadata": {
    "slideshow": {
     "slide_type": "subslide"
    }
   },
   "outputs": [],
   "source": [
    "import re\n",
    "df_train['Title'] = df_train['Name'].apply(lambda x: re.search('([A-Z][a-z]+)\\.', x).group(1))"
   ]
  },
  {
   "cell_type": "code",
   "execution_count": null,
   "id": "e93c2c66",
   "metadata": {
    "slideshow": {
     "slide_type": "fragment"
    }
   },
   "outputs": [],
   "source": [
    "df_train[['Name', 'Title']].head(10)"
   ]
  },
  {
   "cell_type": "code",
   "execution_count": null,
   "id": "512b5201",
   "metadata": {
    "slideshow": {
     "slide_type": "subslide"
    }
   },
   "outputs": [],
   "source": [
    "df_train['Title'].value_counts()"
   ]
  },
  {
   "cell_type": "markdown",
   "id": "c7b5cedf",
   "metadata": {
    "slideshow": {
     "slide_type": "skip"
    }
   },
   "source": [
    "In France, one traditionally calls a young, unmarried woman Mademoiselle – **Mlle** for short – and an older, married woman _Madame_, whose abbreviation is **Mme**."
   ]
  },
  {
   "cell_type": "code",
   "execution_count": null,
   "id": "50966c70",
   "metadata": {
    "slideshow": {
     "slide_type": "subslide"
    }
   },
   "outputs": [],
   "source": [
    "df_train['Title'] = df_train['Title'].replace('Mlle', 'Miss')\n",
    "df_train['Title'] = df_train['Title'].replace('Mme', 'Mrs')\n",
    "df_train.loc[(~df_train['Title'].isin(['Mr', 'Mrs', 'Miss', 'Master'])), 'Title'] = 'Rare Title'"
   ]
  },
  {
   "cell_type": "code",
   "execution_count": null,
   "id": "0815f2e7",
   "metadata": {
    "slideshow": {
     "slide_type": "fragment"
    }
   },
   "outputs": [],
   "source": [
    "df_train['Title'].value_counts()"
   ]
  },
  {
   "cell_type": "code",
   "execution_count": null,
   "id": "991fe9f1",
   "metadata": {
    "slideshow": {
     "slide_type": "subslide"
    }
   },
   "outputs": [],
   "source": [
    "# perform the same task on the test dataset\n",
    "df_test['Title'] = df_test['Name'].apply(lambda x: re.search(' ([A-Z][a-z]+)\\.', x).group(1))\n",
    "df_test['Title'] = df_test['Title'].replace('Mlle', 'Miss')\n",
    "df_test['Title'] = df_test['Title'].replace('Mme', 'Mrs')\n",
    "df_test.loc[(~df_test['Title'].isin(['Mr', 'Mrs', 'Miss', 'Master'])), 'Title'] = 'Rare Title'"
   ]
  },
  {
   "cell_type": "code",
   "execution_count": null,
   "id": "c056d240",
   "metadata": {
    "slideshow": {
     "slide_type": "fragment"
    }
   },
   "outputs": [],
   "source": [
    "df_test['Title'].unique()"
   ]
  },
  {
   "cell_type": "markdown",
   "id": "3b708dd0",
   "metadata": {
    "slideshow": {
     "slide_type": "slide"
    }
   },
   "source": [
    "### 1.2 Travelling Alone vs. Travelling in groups"
   ]
  },
  {
   "cell_type": "markdown",
   "id": "8f166625",
   "metadata": {
    "slideshow": {
     "slide_type": "subslide"
    }
   },
   "source": [
    "#### 1.2.1 Family Size"
   ]
  },
  {
   "cell_type": "code",
   "execution_count": null,
   "id": "42722290",
   "metadata": {
    "slideshow": {
     "slide_type": "fragment"
    }
   },
   "outputs": [],
   "source": [
    "df_train['Fsize'] = df_train['SibSp'] + df_train['Parch'] + 1"
   ]
  },
  {
   "cell_type": "code",
   "execution_count": null,
   "id": "a42db30c",
   "metadata": {
    "slideshow": {
     "slide_type": "subslide"
    }
   },
   "outputs": [],
   "source": [
    "sns.countplot(df_train, x='Fsize', hue='Survived');"
   ]
  },
  {
   "cell_type": "code",
   "execution_count": null,
   "id": "1b796eca-d1ef-4cde-8e72-37fa02df8927",
   "metadata": {},
   "outputs": [],
   "source": [
    "# t_ = df_train.groupby('Fsize')['Survived'].value_counts(normalize=True)\n",
    "# t_"
   ]
  },
  {
   "cell_type": "code",
   "execution_count": null,
   "id": "bdfe0adc",
   "metadata": {
    "scrolled": true,
    "slideshow": {
     "slide_type": "subslide"
    }
   },
   "outputs": [],
   "source": [
    "temp = df_train.groupby('Fsize')['Survived'].value_counts(normalize=True).reset_index(name='Perc')\n",
    "sns.barplot(temp, x='Fsize', y='Perc', hue='Survived');"
   ]
  },
  {
   "cell_type": "markdown",
   "id": "16b9706d",
   "metadata": {
    "slideshow": {
     "slide_type": "slide"
    }
   },
   "source": [
    "#### 1.2.2 Apart from families, there could be groups of friends travelling together."
   ]
  },
  {
   "cell_type": "code",
   "execution_count": null,
   "id": "a825cd52",
   "metadata": {
    "scrolled": true,
    "slideshow": {
     "slide_type": "fragment"
    }
   },
   "outputs": [],
   "source": [
    "len(df_train['Ticket'].unique())"
   ]
  },
  {
   "cell_type": "code",
   "execution_count": null,
   "id": "5ba388b3",
   "metadata": {
    "slideshow": {
     "slide_type": "subslide"
    }
   },
   "outputs": [],
   "source": [
    "temp = df_train['Ticket'].value_counts().reset_index(name='Tsize')\n",
    "df_train = df_train.merge(temp, left_on='Ticket', right_on='Ticket', how='inner')"
   ]
  },
  {
   "cell_type": "code",
   "execution_count": null,
   "id": "69c0f45d",
   "metadata": {
    "slideshow": {
     "slide_type": "fragment"
    }
   },
   "outputs": [],
   "source": [
    "df_train.head(20)"
   ]
  },
  {
   "cell_type": "code",
   "execution_count": null,
   "id": "368213bb",
   "metadata": {
    "slideshow": {
     "slide_type": "subslide"
    }
   },
   "outputs": [],
   "source": [
    "sns.countplot(df_train, x='Tsize', hue='Survived');"
   ]
  },
  {
   "cell_type": "code",
   "execution_count": null,
   "id": "445ddfd5",
   "metadata": {
    "slideshow": {
     "slide_type": "subslide"
    }
   },
   "outputs": [],
   "source": [
    "temp = df_train.groupby('Tsize')['Survived'].value_counts(normalize=True).reset_index(name='Perc')\n",
    "sns.barplot(temp, x='Tsize', y='Perc', hue='Survived');"
   ]
  },
  {
   "cell_type": "markdown",
   "id": "d6ce88ef",
   "metadata": {
    "slideshow": {
     "slide_type": "slide"
    }
   },
   "source": [
    "#### 1.2.3 Consolidating Family and Friends"
   ]
  },
  {
   "cell_type": "code",
   "execution_count": null,
   "id": "494f6f60",
   "metadata": {
    "scrolled": true,
    "slideshow": {
     "slide_type": "subslide"
    }
   },
   "outputs": [],
   "source": [
    "df_train['Group'] = df_train[['Tsize', 'Fsize']].max(axis=1)\n",
    "sns.countplot(df_train, x='Group', hue='Survived');"
   ]
  },
  {
   "cell_type": "code",
   "execution_count": null,
   "id": "80f79a43",
   "metadata": {
    "slideshow": {
     "slide_type": "subslide"
    }
   },
   "outputs": [],
   "source": [
    "df_train['GrpSize'] = ''\n",
    "df_train.loc[df_train['Group']==1, 'GrpSize'] = df_train.loc[df_train['Group']==1, 'GrpSize'].replace('', 'solo')\n",
    "df_train.loc[df_train['Group']==2, 'GrpSize'] = df_train.loc[df_train['Group']==2, 'GrpSize'].replace('', 'couple')\n",
    "df_train.loc[(df_train['Group']<=4) & (df_train['Group']>=3), 'GrpSize'] = df_train.loc[(df_train['Group']<=4) & (df_train['Group']>=3), 'GrpSize'].replace('', 'group')\n",
    "df_train.loc[df_train['Group']>4, 'GrpSize'] = df_train.loc[df_train['Group']>4, 'GrpSize'].replace('', 'large group')\n",
    "df_train.head()"
   ]
  },
  {
   "cell_type": "code",
   "execution_count": null,
   "id": "054034a6",
   "metadata": {
    "slideshow": {
     "slide_type": "subslide"
    }
   },
   "outputs": [],
   "source": [
    "sns.countplot(df_train, x='GrpSize', hue='Survived', order=['solo', 'couple', 'group', 'large group'])"
   ]
  },
  {
   "cell_type": "code",
   "execution_count": null,
   "id": "d2e5c938",
   "metadata": {
    "scrolled": true,
    "slideshow": {
     "slide_type": "subslide"
    }
   },
   "outputs": [],
   "source": [
    "# Applying same transformation to test dataset\n",
    "\n",
    "df_test['Fsize'] = df_test['SibSp'] + df_test['Parch']+1\n",
    "temp = df_test['Ticket'].value_counts().reset_index(name='Tsize')\n",
    "df_test = df_test.merge(temp, left_on='Ticket', right_on='Ticket',how='inner')\n",
    "df_test['Group'] = df_test[['Tsize', 'Fsize']].max(axis=1)\n",
    "df_test['GrpSize'] = ''\n",
    "df_test.loc[df_test['Group']==1, 'GrpSize'] = df_test.loc[df_test['Group']==1, 'GrpSize'].replace('', 'solo')\n",
    "df_test.loc[df_test['Group']==2, 'GrpSize'] = df_test.loc[df_test['Group']==2, 'GrpSize'].replace('', 'couple')\n",
    "df_test.loc[(df_test['Group']<=4) & (df_test['Group']>=3), 'GrpSize'] = df_test.loc[(df_test['Group']<=4) & (df_test['Group']>=3), 'GrpSize'].replace('', 'group')\n",
    "df_test.loc[df_test['Group']>4, 'GrpSize'] = df_test.loc[df_test['Group']>4, 'GrpSize'].replace('', 'large group')\n",
    "df_test.head()"
   ]
  },
  {
   "cell_type": "markdown",
   "id": "b9bcb2d9",
   "metadata": {
    "slideshow": {
     "slide_type": "slide"
    }
   },
   "source": [
    "### 1.3 Effect of Fare"
   ]
  },
  {
   "cell_type": "code",
   "execution_count": null,
   "id": "dfc12469",
   "metadata": {
    "slideshow": {
     "slide_type": "subslide"
    }
   },
   "outputs": [],
   "source": [
    "df_train['Fare'].isnull().sum()"
   ]
  },
  {
   "cell_type": "code",
   "execution_count": null,
   "id": "97035df7",
   "metadata": {
    "slideshow": {
     "slide_type": "subslide"
    }
   },
   "outputs": [],
   "source": [
    "sns.displot(df_train, x='Fare', kind=\"kde\")"
   ]
  },
  {
   "cell_type": "code",
   "execution_count": null,
   "id": "91fe078d",
   "metadata": {
    "slideshow": {
     "slide_type": "subslide"
    }
   },
   "outputs": [],
   "source": [
    "len(df_train[df_train['Fare'] < 0])"
   ]
  },
  {
   "cell_type": "code",
   "execution_count": null,
   "id": "4fd6ec48",
   "metadata": {
    "slideshow": {
     "slide_type": "fragment"
    }
   },
   "outputs": [],
   "source": [
    "len(df_train[df_train['Fare'] == 0])"
   ]
  },
  {
   "cell_type": "code",
   "execution_count": null,
   "id": "77322b76",
   "metadata": {
    "slideshow": {
     "slide_type": "fragment"
    }
   },
   "outputs": [],
   "source": [
    "df_train.loc[(df_train['Fare'] == 0) & (df_train['Pclass'] == 1), 'Fare'] = df_train[df_train['Pclass'] == 1]['Fare'].median()\n",
    "df_train.loc[(df_train['Fare'] == 0) & (df_train['Pclass'] == 2), 'Fare'] = df_train[df_train['Pclass'] == 2]['Fare'].median()\n",
    "df_train.loc[(df_train['Fare'] == 0) & (df_train['Pclass'] == 3), 'Fare'] = df_train[df_train['Pclass'] == 3]['Fare'].median()"
   ]
  },
  {
   "cell_type": "code",
   "execution_count": null,
   "id": "4c0d3497",
   "metadata": {
    "slideshow": {
     "slide_type": "subslide"
    }
   },
   "outputs": [],
   "source": [
    "df_train['Fare'].describe()"
   ]
  },
  {
   "cell_type": "code",
   "execution_count": null,
   "id": "e9c2c2b9",
   "metadata": {
    "slideshow": {
     "slide_type": "fragment"
    }
   },
   "outputs": [],
   "source": [
    "df_train['FareCat'] = ''\n",
    "df_train.loc[df_train['Fare']<=10, 'FareCat'] = '0-10'\n",
    "df_train.loc[(df_train['Fare']>10) & (df_train['Fare']<=25), 'FareCat'] = '10-25'\n",
    "df_train.loc[(df_train['Fare']>25) & (df_train['Fare']<=40), 'FareCat'] = '25-40'\n",
    "df_train.loc[(df_train['Fare']>40) & (df_train['Fare']<=70), 'FareCat'] = '40-70'\n",
    "df_train.loc[(df_train['Fare']>70) & (df_train['Fare']<=100), 'FareCat'] = '70-100'\n",
    "df_train.loc[df_train['Fare']>100, 'FareCat'] = '100+'"
   ]
  },
  {
   "cell_type": "code",
   "execution_count": null,
   "id": "5d1caa03",
   "metadata": {
    "slideshow": {
     "slide_type": "subslide"
    }
   },
   "outputs": [],
   "source": [
    "df_train[['Fare', 'FareCat']].head(10)"
   ]
  },
  {
   "cell_type": "code",
   "execution_count": null,
   "id": "eb724921",
   "metadata": {
    "slideshow": {
     "slide_type": "subslide"
    }
   },
   "outputs": [],
   "source": [
    "sns.countplot(df_train, x='FareCat', hue='Survived', order=['0-10', '10-25', '25-40', '40-70', '70-100', '100+']);"
   ]
  },
  {
   "cell_type": "code",
   "execution_count": null,
   "id": "bb79891c",
   "metadata": {
    "slideshow": {
     "slide_type": "skip"
    }
   },
   "outputs": [],
   "source": [
    "temp = df_train.groupby(['FareCat', 'Survived'])['Survived'].count().reset_index(name='count')\n",
    "sns.lineplot(temp, x='FareCat', y='count', hue='Survived');"
   ]
  },
  {
   "cell_type": "code",
   "execution_count": null,
   "id": "39b0221c",
   "metadata": {
    "slideshow": {
     "slide_type": "subslide"
    }
   },
   "outputs": [],
   "source": [
    "# Applying same changes on test data set\n",
    "df_test.loc[(df_test['Fare'] == 0) & (df_test['Pclass'] == 1), 'Fare'] = df_test[df_test['Pclass'] == 1]['Fare'].mean()\n",
    "df_test.loc[(df_test['Fare'] == 0) & (df_test['Pclass'] == 2), 'Fare'] = df_test[df_test['Pclass'] == 2]['Fare'].mean()\n",
    "df_test.loc[(df_test['Fare'] == 0) & (df_test['Pclass'] == 3), 'Fare'] = df_test[df_test['Pclass'] == 3]['Fare'].mean()\n",
    "df_test['FareCat'] = ''\n",
    "df_test.loc[df_test['Fare']<=10, 'FareCat'] = '0-10'\n",
    "df_test.loc[(df_test['Fare']>10) & (df_test['Fare']<=25), 'FareCat'] = '10-25'\n",
    "df_test.loc[(df_test['Fare']>25) & (df_test['Fare']<=40), 'FareCat'] = '25-40'\n",
    "df_test.loc[(df_test['Fare']>40) & (df_test['Fare']<=70), 'FareCat'] = '40-70'\n",
    "df_test.loc[(df_test['Fare']>70) & (df_test['Fare']<=100), 'FareCat'] = '70-100'\n",
    "df_test.loc[df_test['Fare']>100, 'FareCat'] = '100+'"
   ]
  },
  {
   "cell_type": "code",
   "execution_count": null,
   "id": "6de079ff",
   "metadata": {
    "slideshow": {
     "slide_type": "subslide"
    }
   },
   "outputs": [],
   "source": [
    "# df_test[['Fare', 'FareCat']].head(10)"
   ]
  },
  {
   "cell_type": "markdown",
   "id": "3d936e7c",
   "metadata": {
    "slideshow": {
     "slide_type": "slide"
    }
   },
   "source": [
    "## 2 Missing Values"
   ]
  },
  {
   "cell_type": "code",
   "execution_count": null,
   "id": "381247a4",
   "metadata": {
    "slideshow": {
     "slide_type": "subslide"
    }
   },
   "outputs": [],
   "source": [
    "df_train.isnull().sum()"
   ]
  },
  {
   "cell_type": "code",
   "execution_count": null,
   "id": "d1868ff9",
   "metadata": {
    "slideshow": {
     "slide_type": "subslide"
    }
   },
   "outputs": [],
   "source": [
    "sns.heatmap(df_train.isnull(), cbar=False)"
   ]
  },
  {
   "cell_type": "markdown",
   "id": "cbf56f63",
   "metadata": {
    "slideshow": {
     "slide_type": "slide"
    }
   },
   "source": [
    "### 2.1 Embarked Variable"
   ]
  },
  {
   "cell_type": "code",
   "execution_count": null,
   "id": "520fe9b4",
   "metadata": {
    "slideshow": {
     "slide_type": "subslide"
    }
   },
   "outputs": [],
   "source": [
    "df_train['Embarked'].value_counts()"
   ]
  },
  {
   "cell_type": "code",
   "execution_count": null,
   "id": "2250146e",
   "metadata": {
    "slideshow": {
     "slide_type": "fragment"
    }
   },
   "outputs": [],
   "source": [
    "df_train.loc[(df_train['Embarked'].isnull()),'Embarked']='S'"
   ]
  },
  {
   "cell_type": "markdown",
   "id": "461ebabd",
   "metadata": {
    "slideshow": {
     "slide_type": "slide"
    }
   },
   "source": [
    "### 2.2 Age"
   ]
  },
  {
   "cell_type": "code",
   "execution_count": null,
   "id": "b3c4ff22-8fc5-42fd-a7cf-bd0adba73cba",
   "metadata": {},
   "outputs": [],
   "source": [
    "sns.kdeplot(df_train[df_train['Survived'] == 0]['Age'], fill=True,label=\"Not survived\");\n",
    "sns.kdeplot(df_train[df_train['Survived'] == 1]['Age'], fill=True,label=\"Survived\");"
   ]
  },
  {
   "cell_type": "code",
   "execution_count": null,
   "id": "3e0de8ab",
   "metadata": {
    "slideshow": {
     "slide_type": "subslide"
    }
   },
   "outputs": [],
   "source": [
    "sns.kdeplot(df_train, x=\"Age\", hue=\"Survived\", multiple=\"fill\");"
   ]
  },
  {
   "cell_type": "code",
   "execution_count": null,
   "id": "3f9b08f0-ddaf-48d3-918e-205202188a3a",
   "metadata": {},
   "outputs": [],
   "source": [
    "df_train.head()"
   ]
  },
  {
   "cell_type": "code",
   "execution_count": null,
   "id": "f5e366a4",
   "metadata": {
    "slideshow": {
     "slide_type": "subslide"
    }
   },
   "outputs": [],
   "source": [
    "sns.catplot(df_train, kind='box', x='Age', col='Title', row='Pclass');"
   ]
  },
  {
   "cell_type": "code",
   "execution_count": null,
   "id": "82e595d1",
   "metadata": {
    "slideshow": {
     "slide_type": "subslide"
    }
   },
   "outputs": [],
   "source": [
    "for t in df_train['Title'].unique():\n",
    "    for p in df_train['Pclass'].unique():\n",
    "        df_train.loc[(df_train['Title'] == t) & (df_train['Pclass'] == p) & (df_train['Age'].isnull()), 'Age'] = df_train.loc[(df_train['Title'] == t) & (df_train['Pclass'] == p), 'Age'].median()"
   ]
  },
  {
   "cell_type": "code",
   "execution_count": null,
   "id": "6d6008fd",
   "metadata": {
    "slideshow": {
     "slide_type": "fragment"
    }
   },
   "outputs": [],
   "source": [
    "df_train[\"Age\"].isnull().sum()"
   ]
  },
  {
   "cell_type": "code",
   "execution_count": null,
   "id": "d73ad078",
   "metadata": {
    "slideshow": {
     "slide_type": "subslide"
    }
   },
   "outputs": [],
   "source": [
    "df_train['AgeCat']=''\n",
    "df_train.loc[ df_train['Age'] <= 16, 'AgeCat'] = '0-16'\n",
    "df_train.loc[(df_train['Age'] > 16) & (df_train['Age'] <= 32), 'AgeCat'] = '16-32'\n",
    "df_train.loc[(df_train['Age'] > 32) & (df_train['Age'] <= 48), 'AgeCat'] = '32-48'\n",
    "df_train.loc[(df_train['Age'] > 48) & (df_train['Age'] <= 64), 'AgeCat'] = '48-64'\n",
    "df_train.loc[ df_train['Age'] > 64, 'AgeCat']= '64+'"
   ]
  },
  {
   "cell_type": "markdown",
   "id": "64c4ab8f",
   "metadata": {
    "slideshow": {
     "slide_type": "slide"
    }
   },
   "source": [
    "### 2.3 Cabin"
   ]
  },
  {
   "cell_type": "code",
   "execution_count": null,
   "id": "c085ba34",
   "metadata": {
    "slideshow": {
     "slide_type": "subslide"
    }
   },
   "outputs": [],
   "source": [
    "df_train.drop('Cabin',axis=1,inplace=True)"
   ]
  },
  {
   "cell_type": "code",
   "execution_count": null,
   "id": "8aafc1f5",
   "metadata": {
    "slideshow": {
     "slide_type": "fragment"
    }
   },
   "outputs": [],
   "source": [
    "df_train.isnull().sum()"
   ]
  },
  {
   "cell_type": "code",
   "execution_count": null,
   "id": "fb6483c7",
   "metadata": {
    "slideshow": {
     "slide_type": "subslide"
    }
   },
   "outputs": [],
   "source": [
    "# drop cabin from test data as well\n",
    "df_test.drop('Cabin',axis=1,inplace=True)"
   ]
  },
  {
   "cell_type": "markdown",
   "id": "b06400ed",
   "metadata": {
    "slideshow": {
     "slide_type": "slide"
    }
   },
   "source": [
    "### 2.4 Filling missing values in the test data"
   ]
  },
  {
   "cell_type": "code",
   "execution_count": null,
   "id": "504b86d2",
   "metadata": {
    "slideshow": {
     "slide_type": "subslide"
    }
   },
   "outputs": [],
   "source": [
    "df_test.isnull().sum()"
   ]
  },
  {
   "cell_type": "code",
   "execution_count": null,
   "id": "a3bf8d0e",
   "metadata": {
    "slideshow": {
     "slide_type": "subslide"
    }
   },
   "outputs": [],
   "source": [
    "for t in df_test['Title'].unique():\n",
    "    for p in df_test['Pclass'].unique():\n",
    "        df_test.loc[(df_test['Title'] == t) & (df_test['Pclass'] == p) & (df_test['Age'].isnull()), 'Age'] = df_test.loc[(df_test['Title'] == t) & (df_test['Pclass'] == p), 'Age'].median()"
   ]
  },
  {
   "cell_type": "code",
   "execution_count": null,
   "id": "f48f1d51",
   "metadata": {
    "slideshow": {
     "slide_type": "fragment"
    }
   },
   "outputs": [],
   "source": [
    "df_test.loc[(df_test[\"Age\"].isnull()), \"Age\"] = df_test[df_test['Pclass'] == 3]['Age'].median()"
   ]
  },
  {
   "cell_type": "code",
   "execution_count": null,
   "id": "e092dcb6",
   "metadata": {
    "slideshow": {
     "slide_type": "subslide"
    }
   },
   "outputs": [],
   "source": [
    "df_test['AgeCat']=''\n",
    "df_test.loc[ df_test['Age'] <= 16, 'AgeCat'] = '0-16'\n",
    "df_test.loc[(df_test['Age'] > 16) & (df_test['Age'] <= 32), 'AgeCat'] = '16-32'\n",
    "df_test.loc[(df_test['Age'] > 32) & (df_test['Age'] <= 48), 'AgeCat'] = '32-48'\n",
    "df_test.loc[(df_test['Age'] > 48) & (df_test['Age'] <= 64), 'AgeCat'] = '48-64'\n",
    "df_test.loc[ df_test['Age'] > 64, 'AgeCat']= '64+'"
   ]
  },
  {
   "cell_type": "code",
   "execution_count": null,
   "id": "93fe53b7",
   "metadata": {
    "slideshow": {
     "slide_type": "subslide"
    }
   },
   "outputs": [],
   "source": [
    "df_test[df_test[\"Fare\"].isnull()]"
   ]
  },
  {
   "cell_type": "code",
   "execution_count": null,
   "id": "eaa1fd38",
   "metadata": {
    "slideshow": {
     "slide_type": "fragment"
    }
   },
   "outputs": [],
   "source": [
    "df_test.loc[(df_test[\"Fare\"].isnull()), \"Fare\"] = df_test[df_test['Pclass'] == 3]['Fare'].median()"
   ]
  },
  {
   "cell_type": "code",
   "execution_count": null,
   "id": "22aa1f52",
   "metadata": {
    "slideshow": {
     "slide_type": "fragment"
    }
   },
   "outputs": [],
   "source": [
    "df_test.iloc[172]['Fare']"
   ]
  },
  {
   "cell_type": "code",
   "execution_count": null,
   "id": "e0fb86b1",
   "metadata": {
    "slideshow": {
     "slide_type": "fragment"
    }
   },
   "outputs": [],
   "source": [
    "df_test.loc[172, 'FareCat'] = '0-10'"
   ]
  },
  {
   "cell_type": "code",
   "execution_count": null,
   "id": "aa64ccfc",
   "metadata": {
    "slideshow": {
     "slide_type": "subslide"
    }
   },
   "outputs": [],
   "source": [
    "df_test.loc[172]"
   ]
  },
  {
   "cell_type": "markdown",
   "id": "f586b5e2",
   "metadata": {
    "slideshow": {
     "slide_type": "slide"
    }
   },
   "source": [
    "## 3. Dropping irrelevant/ redundant attributes"
   ]
  },
  {
   "cell_type": "code",
   "execution_count": null,
   "id": "34afa485",
   "metadata": {
    "slideshow": {
     "slide_type": "subslide"
    }
   },
   "outputs": [],
   "source": [
    "df_train.head()"
   ]
  },
  {
   "cell_type": "code",
   "execution_count": null,
   "id": "b1f39221",
   "metadata": {
    "slideshow": {
     "slide_type": "subslide"
    }
   },
   "outputs": [],
   "source": [
    "drop_features = ['PassengerId', 'Name','Age', 'SibSp', 'Parch','Ticket', 'Fare','Fsize','Tsize', 'Group']"
   ]
  },
  {
   "cell_type": "code",
   "execution_count": null,
   "id": "c932a891",
   "metadata": {
    "slideshow": {
     "slide_type": "subslide"
    }
   },
   "outputs": [],
   "source": [
    "df_train.drop(drop_features, axis=1, inplace=True)\n",
    "df_test.drop(drop_features, axis=1, inplace=True)"
   ]
  },
  {
   "cell_type": "code",
   "execution_count": null,
   "id": "d2d97d3e",
   "metadata": {
    "slideshow": {
     "slide_type": "fragment"
    }
   },
   "outputs": [],
   "source": [
    "print(df_train.shape)\n",
    "print(df_test.shape)"
   ]
  },
  {
   "cell_type": "code",
   "execution_count": null,
   "id": "764b4ba6",
   "metadata": {
    "slideshow": {
     "slide_type": "subslide"
    }
   },
   "outputs": [],
   "source": [
    "df_train.to_csv('datasets/titanic/df_train_clean.csv', index=False)\n",
    "df_test.to_csv('datasets/titanic/df_test_clean.csv', index=False)"
   ]
  },
  {
   "cell_type": "markdown",
   "id": "96ce2730",
   "metadata": {
    "slideshow": {
     "slide_type": "slide"
    }
   },
   "source": [
    "**References**\n",
    "- https://www.kaggle.com/code/startupsci/titanic-data-science-solutions/notebook\n",
    "- https://www.kaggle.com/code/surajkumar88/titanic-machine-learning-from-disaster-eda/notebook\n",
    "- https://www.kaggle.com/code/pythonafroz/titanic-survival-prediction-with-11-algorithm\n",
    "- https://www.kaggle.com/code/subinium/awesome-visualization-with-titanic-dataset"
   ]
  }
 ],
 "metadata": {
  "celltoolbar": "Slideshow",
  "kernelspec": {
   "display_name": "Python 3 (ipykernel)",
   "language": "python",
   "name": "python3"
  },
  "language_info": {
   "codemirror_mode": {
    "name": "ipython",
    "version": 3
   },
   "file_extension": ".py",
   "mimetype": "text/x-python",
   "name": "python",
   "nbconvert_exporter": "python",
   "pygments_lexer": "ipython3",
   "version": "3.11.6"
  }
 },
 "nbformat": 4,
 "nbformat_minor": 5
}
